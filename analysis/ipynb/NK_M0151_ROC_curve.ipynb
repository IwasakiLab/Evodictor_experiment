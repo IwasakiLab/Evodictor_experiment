{
 "cells": [
  {
   "cell_type": "code",
   "execution_count": null,
   "metadata": {},
   "outputs": [],
   "source": [
    "import matplotlib\n",
    "import matplotlib.pyplot as plt\n",
    "import matplotlib.colors as mcolor\n",
    "import sys\n",
    "import os\n",
    "import pandas as pd\n",
    "import numpy as np\n",
    "from Bio import Phylo\n",
    "import seaborn as sns\n",
    "from scipy.stats import t, ttest_1samp, wilcoxon, mannwhitneyu, ttest_rel, zscore, spearmanr\n",
    "import json\n",
    "from statsmodels.stats.multitest import multipletests\n",
    "from scipy.stats import gaussian_kde\n",
    "from sklearn import linear_model\n",
    "import re\n",
    "from matplotlib.colors import ListedColormap\n",
    "import networkx as nx\n",
    "import gzip"
   ]
  },
  {
   "cell_type": "code",
   "execution_count": null,
   "metadata": {},
   "outputs": [],
   "source": [
    "matplotlib.rcParams['font.family']       = 'Arial'\n",
    "matplotlib.rcParams['font.sans-serif']   = [\"Arial\",\"DejaVu Sans\",\"Lucida Grande\",\"Verdana\"]\n",
    "matplotlib.rcParams['figure.figsize']    = [4,3]\n",
    "matplotlib.rcParams['font.size']         = 10\n",
    "matplotlib.rcParams[\"axes.labelcolor\"]   = \"#000000\"\n",
    "matplotlib.rcParams[\"axes.linewidth\"]    = 1.0 \n",
    "matplotlib.rcParams[\"xtick.major.width\"] = 1.0\n",
    "matplotlib.rcParams[\"ytick.major.width\"] = 1.0\n",
    "cmap1 = plt.cm.tab20\n",
    "cmap2 = plt.cm.Set3  \n",
    "#plt.style.use('default')"
   ]
  },
  {
   "cell_type": "code",
   "execution_count": null,
   "metadata": {},
   "outputs": [],
   "source": [
    "os.chdir(\"/Users/konnonaoki/Documents/backupped/Research/IwasakiLab/Data/MetabolicNetworkEvolution/experiment/NK_M0151\")\n",
    "\n",
    "for dir in [\"figures\", \"tables\", \"networks\"]:\n",
    "    try:\n",
    "        os.mkdir(dir)\n",
    "    except:\n",
    "        None"
   ]
  },
  {
   "cell_type": "code",
   "execution_count": null,
   "metadata": {},
   "outputs": [],
   "source": [
    "# Classess of KOs\n",
    "\n",
    "df_path_ko = pd.read_table(\"tables/path_ko.txt\", names = ['Pathway', 'KO'])\n",
    "df_rn_ko = pd.read_table(\"tables/rn_ko.txt\", names = ['Reaction','KO'])\n",
    "df_md_ko = pd.read_table(\"tables/md_ko.txt\", names = ['Module','KO'])\n",
    "df_path_md = pd.read_table(\"tables/path_md.txt\", names = ['Pathway','Module'])\n",
    "ontology = json.load(open(\"/Users/konnonaoki/Documents/backupped/Research/IwasakiLab/Data/MetabolicNetworkEvolution/experiment/NK_M0151/json/ko00001.json\"))\n",
    "\n",
    "ontology_tree = Phylo.BaseTree.Tree(Phylo.BaseTree.Clade(name=ontology['name']))\n",
    "root_clade    = Phylo.BaseTree.Clade(name=ontology['name'])\n",
    "stack = [(ontology, root_clade)]\n",
    "\n",
    "while len(stack) > 0:\n",
    "    term, clade = stack.pop()\n",
    "    if ('children' in term.keys()):\n",
    "        for child in term['children']:\n",
    "            child_clade = Phylo.BaseTree.Clade(name = child['name'])\n",
    "            clade.clades.append(child_clade)\n",
    "            stack.append((child, child_clade))\n",
    "\n",
    "ontology_tree = Phylo.BaseTree.Tree(root_clade)\n",
    "\n",
    "list_category_ko = []\n",
    "for clade in ontology_tree.clade.clades[0].clades:\n",
    "    for tip in clade.get_terminals():\n",
    "        KO = tip.name.split()[0]\n",
    "        if (KO[0] == 'K'):\n",
    "            list_category_ko.append([clade.name, KO])\n",
    "df_category_ko = pd.DataFrame(list_category_ko, columns = ['category', 'KO'])\n",
    "st_category_ko = []\n",
    "for clade in ontology_tree.clade.clades[0].clades:\n",
    "    for tip in clade.get_terminals():\n",
    "        KO = tip.name.split()[0]\n",
    "        if (KO[0] == 'K'):\n",
    "            list_category_ko.append([clade.name, KO])\n",
    "df_category_ko = pd.DataFrame(list_category_ko, columns = ['category', 'KO'])\n",
    "df_category_ko = df_category_ko[~df_category_ko.duplicated()]\n",
    "\n",
    "df_ko_count = pd.DataFrame(df_category_ko.KO.value_counts())\n",
    "set_ko_with_unique_category = set(df_ko_count[df_ko_count['KO']==1].index)\n",
    "df_category_ko['unique'] = [(ko in set_ko_with_unique_category) for ko in df_category_ko.KO]\n",
    "df_uniquecategory_ko = df_category_ko[df_category_ko['unique']]\n",
    "\n",
    "# color of function categories\n",
    "\n",
    "colors = ['#66C2A5', '#FC8D62', '#8DA0CB', '#E78AC3', '#555555', '#FC8D62', '#8DA0CB', '#E78AC3', '#66C2A5', '#FC8D62', '#000000']\n",
    "\n",
    "cm_name = 'Set3' # B->G->R\n",
    "cm = plt.get_cmap(cm_name)\n",
    "\n",
    "df_category_ko_module = pd.merge(df_category_ko, df_md_ko, on = 'KO')\n",
    "df_category_ko_module['Nko'] = 1\n",
    "df_category_module_count = df_category_ko_module.groupby(['category', 'Module'], as_index = False).sum()\n",
    "df_maxcategory_module = df_category_module_count.loc[df_category_module_count.groupby('Module')['Nko'].idxmax(),:].sort_values('category')\n",
    "df_maxcategory_module = df_maxcategory_module.reset_index().loc[:, ['category', 'Module']]\n",
    "df_category_color = pd.DataFrame([[category, i] for i, category in enumerate(df_maxcategory_module.category.unique())], columns = [\"category\", 'category_id'])\n",
    "df_category_color['color'] = [mcolor.rgb2hex(cm(i)) for i in df_category_color['category_id']]\n",
    "#df_category_color\n",
    "\n",
    "df_category_ko_pathway = pd.merge(df_category_ko, df_path_ko, on = 'KO')\n",
    "df_category_ko_pathway['Nko'] = 1\n",
    "df_category_pathway_count = df_category_ko_pathway.groupby(['category', 'Pathway'], as_index = False).sum()\n",
    "df_maxcategory_pathway = df_category_pathway_count.loc[df_category_pathway_count.groupby('Pathway')['Nko'].idxmax(),:].sort_values('category')\n",
    "df_maxcategory_pathway = df_maxcategory_pathway.reset_index().loc[:, ['category', 'Pathway']]\n",
    "df_maxcategory_pathway"
   ]
  },
  {
   "cell_type": "markdown",
   "metadata": {},
   "source": [
    "#### Visualize ROC curve of cross validation"
   ]
  },
  {
   "cell_type": "markdown",
   "metadata": {},
   "source": [
    "##### Open file"
   ]
  },
  {
   "cell_type": "code",
   "execution_count": null,
   "metadata": {},
   "outputs": [],
   "source": [
    "tree=\"mlgtdb\"\n",
    "anc=\"MPPA\"\n",
    "df_roc = pd.read_table(gzip.open(\"/Users/konnonaoki/Documents/backupped/Research/IwasakiLab/Data/MetabolicNetworkEvolution/experiment/NK_M0151/result/ko_curve.\"+tree+\".\"+anc+\".txt.gz\"), names=[\"KO\", \"type\", \"prediction\", \"CVnumber\", \"ROCx\", \"ROCy\"])\n",
    "df_roc"
   ]
  },
  {
   "cell_type": "markdown",
   "metadata": {},
   "source": [
    "##### x = 0, 0.01, 0.02, ..., 1.00でのROC curveの値を出力 (x座標を揃えた) : 時間かかるので実行は１度だけ"
   ]
  },
  {
   "cell_type": "code",
   "execution_count": null,
   "metadata": {},
   "outputs": [],
   "source": [
    "x_y_list = []\n",
    "\n",
    "\n",
    "for Type in [\"gain\", \"loss\"]:\n",
    "    df_roc_type = df_roc[\n",
    "        (df_roc[\"type\"] == Type) \n",
    "    ].reset_index()\n",
    "    for i, KO in enumerate(list(set(df_roc_type[\"KO\"]))):\n",
    "        df_roc_type_KO = df_roc_type[\n",
    "                (df_roc_type[\"KO\"] == KO)\n",
    "            ]\n",
    "        for prediction in [\"LR\", \"RF\"]:\n",
    "            for CVnumber in [1,2,3,4,5]:\n",
    "                df_roc_ext = df_roc_type_KO[\n",
    "                    (df_roc_type_KO[\"prediction\"] == prediction) &\n",
    "                    (df_roc_type_KO[\"CVnumber\"] == CVnumber)\n",
    "                ]\n",
    "\n",
    "                # 角だけ\n",
    "                df_roc_ext_ymax = df_roc_ext.groupby([\"CVnumber\", \"ROCx\"], as_index = False).max()\n",
    "\n",
    "                ROCx = [0] + list(df_roc_ext_ymax[\"ROCx\"])\n",
    "                ROCy = [0] + list(df_roc_ext_ymax[\"ROCy\"])\n",
    "\n",
    "                def intermediate(x, ROCx, ROCy):\n",
    "                    prevY = 0\n",
    "                    for X, Y in zip(ROCx, ROCy):\n",
    "                        if (x < X):\n",
    "                            return prevY\n",
    "                        elif (x == 1):\n",
    "                            return 1\n",
    "                        else:\n",
    "                            prevY = Y\n",
    "\n",
    "                for x in np.arange(0,1.01, 0.01):\n",
    "                    x_y_list.append([KO, Type, prediction, CVnumber, x, intermediate(x, ROCx, ROCy)])\n",
    "        if (i%100==0): print(i)\n",
    "    \n"
   ]
  },
  {
   "cell_type": "code",
   "execution_count": null,
   "metadata": {},
   "outputs": [],
   "source": [
    "df_x_y_list = pd.DataFrame(x_y_list, columns = [\"KO\", \"type\", \"prediction\", \"CVnumber\", \"ROCx\", \"ROCy\"])\n",
    "df_x_y_list = df_x_y_list.sort_values([\"KO\", \"type\", \"prediction\", \"CVnumber\", \"ROCx\"])\n",
    "df_x_y_list.to_csv(\"tables/ko_curve.definedX.txt\", sep = \"\\t\", header = True, index = False)\n",
    "df_x_y_list "
   ]
  },
  {
   "cell_type": "markdown",
   "metadata": {},
   "source": [
    "##### いよいよ描画"
   ]
  },
  {
   "cell_type": "code",
   "execution_count": null,
   "metadata": {},
   "outputs": [],
   "source": [
    "df_x_y_list = pd.read_table(\"tables/ko_curve.definedX.txt\")\n",
    "df_x_y_list "
   ]
  },
  {
   "cell_type": "code",
   "execution_count": null,
   "metadata": {},
   "outputs": [],
   "source": [
    "df_x_y_list_mean = df_x_y_list.groupby([\"KO\", \"type\", \"prediction\", \"ROCx\"], as_index=False).mean()\n",
    "df_x_y_list_mean"
   ]
  },
  {
   "cell_type": "code",
   "execution_count": null,
   "metadata": {},
   "outputs": [],
   "source": [
    "# black background\n",
    "Type = \"gain\"\n",
    "prediction = \"RF\"\n",
    "\n",
    "for Type in [\"gain\", \"loss\"]:\n",
    "    for prediction in [\"RF\", \"LR\"]:\n",
    "        df_x_y_list_mean_ext = df_x_y_list_mean[\n",
    "            (df_x_y_list_mean[\"type\"]==Type) &\n",
    "            (df_x_y_list_mean[\"prediction\"]==prediction)\n",
    "        ]\n",
    "\n",
    "        fig = plt.figure(figsize=(2,2))\n",
    "        ax = fig.add_axes([0.1,0.1,0.8,0.8])\n",
    "        ax.set_facecolor(\"#000000\")\n",
    "        #ax.set_facecolor(\"#42125B\")\n",
    "\n",
    "        ax.set_xlim(-0.01,1.01)\n",
    "        ax.set_ylim(-0.01,1.01)\n",
    "\n",
    "        ax.set_xticks([0.0,0.2,0.4,0.6,0.8,1.0])\n",
    "\n",
    "        ax.set_xlabel(\"False positive rate\")\n",
    "        ax.set_ylabel(\"True positive rate\")\n",
    "\n",
    "\n",
    "        sns.lineplot(\n",
    "            data=df_x_y_list_mean_ext,\n",
    "            x=\"ROCx\", y=\"ROCy\", units=\"KO\",\n",
    "            estimator = None, lw=0.6, alpha = 0.01, \n",
    "            color = \"#FFFF00\",\n",
    "        )\n",
    "        \n",
    "        ax.set_title(Type + \" \" + prediction)\n",
    "        \n",
    "        plt.savefig(\"figures/NK_M0151_ROC_\"+Type+\"_\"+prediction+\".pdf\", bbox_inches = 'tight')\n",
    "        plt.savefig(\"figures/NK_M0151_ROC_\"+Type+\"_\"+prediction+\".png\", dpi=300, bbox_inches = 'tight')\n",
    "        \n",
    "        plt.close()"
   ]
  },
  {
   "cell_type": "code",
   "execution_count": null,
   "metadata": {},
   "outputs": [],
   "source": [
    "# white background\n",
    "for Type, color in [(\"gain\",'#9FA6F1'), (\"loss\", '#E1BB63')]:\n",
    "    for prediction in [\"RF\", \"LR\"]:\n",
    "        df_x_y_list_mean_ext = df_x_y_list_mean[\n",
    "            (df_x_y_list_mean[\"type\"]==Type) &\n",
    "            (df_x_y_list_mean[\"prediction\"]==prediction)\n",
    "        ]\n",
    "\n",
    "        fig = plt.figure(figsize=(2,2))\n",
    "        ax = fig.add_axes([0.1,0.1,0.8,0.8])\n",
    "        #ax.set_facecolor(\"#000000\")\n",
    "        #ax.set_facecolor(\"#42125B\")\n",
    "\n",
    "        ax.set_xlim(-0.01,1.01)\n",
    "        ax.set_ylim(-0.01,1.01)\n",
    "\n",
    "        ax.set_xticks([0.0,0.2,0.4,0.6,0.8,1.0])\n",
    "\n",
    "        ax.set_xlabel(\"False positive rate\")\n",
    "        ax.set_ylabel(\"True positive rate\")\n",
    "\n",
    "\n",
    "        sns.lineplot(\n",
    "            data=df_x_y_list_mean_ext,\n",
    "            x=\"ROCx\", y=\"ROCy\", units=\"KO\",\n",
    "            estimator = None, lw=0.6, alpha = 0.01, \n",
    "            color = color,\n",
    "        )\n",
    "        \n",
    "        ax.set_title(Type + \" \" + prediction)\n",
    "        \n",
    "        plt.savefig(\"figures/NK_M0151_ROC_\"+Type+\"_\"+prediction+\".pdf\", bbox_inches = 'tight')\n",
    "        plt.savefig(\"figures/NK_M0151_ROC_\"+Type+\"_\"+prediction+\".png\", dpi=300, bbox_inches = 'tight')\n",
    "        \n",
    "        plt.close()"
   ]
  },
  {
   "cell_type": "code",
   "execution_count": null,
   "metadata": {},
   "outputs": [],
   "source": []
  }
 ],
 "metadata": {
  "kernelspec": {
   "display_name": "Python 3",
   "language": "python",
   "name": "python3"
  },
  "language_info": {
   "codemirror_mode": {
    "name": "ipython",
    "version": 3
   },
   "file_extension": ".py",
   "mimetype": "text/x-python",
   "name": "python",
   "nbconvert_exporter": "python",
   "pygments_lexer": "ipython3",
   "version": "3.8.8"
  },
  "toc": {
   "base_numbering": 1,
   "nav_menu": {},
   "number_sections": true,
   "sideBar": true,
   "skip_h1_title": false,
   "title_cell": "Table of Contents",
   "title_sidebar": "Contents",
   "toc_cell": false,
   "toc_position": {},
   "toc_section_display": true,
   "toc_window_display": false
  }
 },
 "nbformat": 4,
 "nbformat_minor": 2
}
