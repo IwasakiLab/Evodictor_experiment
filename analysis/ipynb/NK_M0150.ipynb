{
 "cells": [
  {
   "cell_type": "code",
   "execution_count": null,
   "metadata": {},
   "outputs": [],
   "source": [
    "import matplotlib\n",
    "import matplotlib.pyplot as plt\n",
    "import matplotlib.colors as mcolor\n",
    "import sys\n",
    "import os\n",
    "import pandas as pd\n",
    "import numpy as np\n",
    "from Bio import Phylo\n",
    "from scipy.stats import gaussian_kde, ttest_rel\n",
    "import json"
   ]
  },
  {
   "cell_type": "code",
   "execution_count": null,
   "metadata": {},
   "outputs": [],
   "source": [
    "matplotlib.rcParams['font.family']       = 'Arial'\n",
    "matplotlib.rcParams['font.sans-serif']   = [\"Arial\",\"DejaVu Sans\",\"Lucida Grande\",\"Verdana\"]\n",
    "matplotlib.rcParams['figure.figsize']    = [4,3]\n",
    "matplotlib.rcParams['font.size']         = 10\n",
    "matplotlib.rcParams[\"axes.labelcolor\"]   = \"#000000\"\n",
    "matplotlib.rcParams[\"axes.linewidth\"]    = 1.0 \n",
    "matplotlib.rcParams[\"xtick.major.width\"] = 1.0\n",
    "matplotlib.rcParams[\"ytick.major.width\"] = 1.0\n",
    "cmap1 = plt.cm.tab20\n",
    "cmap2 = plt.cm.Set3  \n",
    "#plt.style.use('default')"
   ]
  },
  {
   "cell_type": "code",
   "execution_count": null,
   "metadata": {},
   "outputs": [],
   "source": [
    "os.chdir(\"/Users/konnonaoki/Documents/backupped/Research/IwasakiLab/Data/MetabolicNetworkEvolution/experiment/NK_M0150\")\n",
    "\n",
    "for dir in [\"figures\", \"itol\", 'table', \"itol/md\", \"itol/md_loss\", \"itol/md_loss/blue\", \"itol/md_loss/red\", \"itol/md_loss/cyan\"]:\n",
    "    try:\n",
    "        os.mkdir(dir)\n",
    "    except:\n",
    "        None"
   ]
  },
  {
   "cell_type": "code",
   "execution_count": null,
   "metadata": {},
   "outputs": [],
   "source": [
    "# Classess of KOs\n",
    "\n",
    "table_dir = \"/Users/konnonaoki/Documents/backupped/Research/IwasakiLab/Data/MetabolicNetworkEvolution/experiment/NK_M0151\"\n",
    "\n",
    "df_path_ko = pd.read_table(table_dir + \"/tables/path_ko.txt\", names = ['Pathway', 'KO'])\n",
    "df_rn_ko = pd.read_table(table_dir + \"/tables/rn_ko.txt\", names = ['Reaction','KO'])\n",
    "df_md_ko = pd.read_table(table_dir + \"/tables/md_ko.txt\", names = ['Module','KO'])\n",
    "df_path_md = pd.read_table(table_dir + \"/tables/path_md.txt\", names = ['Pathway','Module'])\n",
    "ontology = json.load(open(\"/Users/konnonaoki/Documents/backupped/Research/IwasakiLab/Data/MetabolicNetworkEvolution/experiment/NK_M0151/json/ko00001.json\"))\n",
    "\n",
    "ontology_tree = Phylo.BaseTree.Tree(Phylo.BaseTree.Clade(name=ontology['name']))\n",
    "root_clade    = Phylo.BaseTree.Clade(name=ontology['name'])\n",
    "stack = [(ontology, root_clade)]\n",
    "\n",
    "while len(stack) > 0:\n",
    "    term, clade = stack.pop()\n",
    "    if ('children' in term.keys()):\n",
    "        for child in term['children']:\n",
    "            child_clade = Phylo.BaseTree.Clade(name = child['name'])\n",
    "            clade.clades.append(child_clade)\n",
    "            stack.append((child, child_clade))\n",
    "\n",
    "ontology_tree = Phylo.BaseTree.Tree(root_clade)\n",
    "\n",
    "list_category_ko = []\n",
    "for clade in ontology_tree.clade.clades[0].clades:\n",
    "    for tip in clade.get_terminals():\n",
    "        KO = tip.name.split()[0]\n",
    "        if (KO[0] == 'K'):\n",
    "            list_category_ko.append([clade.name, KO])\n",
    "df_category_ko = pd.DataFrame(list_category_ko, columns = ['category', 'KO'])\n",
    "st_category_ko = []\n",
    "for clade in ontology_tree.clade.clades[0].clades:\n",
    "    for tip in clade.get_terminals():\n",
    "        KO = tip.name.split()[0]\n",
    "        if (KO[0] == 'K'):\n",
    "            list_category_ko.append([clade.name, KO])\n",
    "df_category_ko = pd.DataFrame(list_category_ko, columns = ['category', 'KO'])\n",
    "df_category_ko = df_category_ko[~df_category_ko.duplicated()]\n",
    "\n",
    "df_ko_count = pd.DataFrame(df_category_ko.KO.value_counts())\n",
    "set_ko_with_unique_category = set(df_ko_count[df_ko_count['KO']==1].index)\n",
    "df_category_ko['unique'] = [(ko in set_ko_with_unique_category) for ko in df_category_ko.KO]\n",
    "df_uniquecategory_ko = df_category_ko[df_category_ko['unique']]\n",
    "\n",
    "# color of function categories\n",
    "\n",
    "colors = ['#66C2A5', '#FC8D62', '#8DA0CB', '#E78AC3', '#555555', '#FC8D62', '#8DA0CB', '#E78AC3', '#66C2A5', '#FC8D62', '#000000']\n",
    "\n",
    "cm_name = 'Set3' # B->G->R\n",
    "cm = plt.get_cmap(cm_name)\n",
    "\n",
    "df_category_ko_module = pd.merge(df_category_ko, df_md_ko, on = 'KO')\n",
    "df_category_ko_module['Nko'] = 1\n",
    "df_category_module_count = df_category_ko_module.groupby(['category', 'Module'], as_index = False).sum()\n",
    "df_maxcategory_module = df_category_module_count.loc[df_category_module_count.groupby('Module')['Nko'].idxmax(),:].sort_values('category')\n",
    "df_maxcategory_module = df_maxcategory_module.reset_index().loc[:, ['category', 'Module']]\n",
    "df_category_color = pd.DataFrame([[category, i] for i, category in enumerate(df_maxcategory_module.category.unique())], columns = [\"category\", 'category_id'])\n",
    "df_category_color['color'] = [mcolor.rgb2hex(cm(i)) for i in df_category_color['category_id']]\n",
    "#df_category_color\n",
    "\n",
    "df_category_ko_pathway = pd.merge(df_category_ko, df_path_ko, on = 'KO')\n",
    "df_category_ko_pathway['Nko'] = 1\n",
    "df_category_pathway_count = df_category_ko_pathway.groupby(['category', 'Pathway'], as_index = False).sum()\n",
    "df_maxcategory_pathway = df_category_pathway_count.loc[df_category_pathway_count.groupby('Pathway')['Nko'].idxmax(),:].sort_values('category')\n",
    "df_maxcategory_pathway = df_maxcategory_pathway.reset_index().loc[:, ['category', 'Pathway']]\n",
    "df_ko_desc = pd.read_table(table_dir + \"/tables/ko_desc.txt\", names = ['KO', 'Description'])\n",
    "df_uniquecategory_ko"
   ]
  },
  {
   "cell_type": "code",
   "execution_count": null,
   "metadata": {},
   "outputs": [],
   "source": [
    "def rgb2html(R, G, B):\n",
    "    return '#%02x%02x%02x' % (R, G, B)\n",
    "\n",
    "color_list = []\n",
    "for b in [0,1]:\n",
    "    for k in range(10):\n",
    "        i = 2*k+b\n",
    "        rgb =list(np.array(cmap1(i))[:3]*255)\n",
    "        color_list.append(rgb2html(int(rgb[0]),int(rgb[1]),int(rgb[2])))\n",
    "for i in range(30):\n",
    "    color_list.append(\"#D9D9D9\")"
   ]
  },
  {
   "cell_type": "code",
   "execution_count": null,
   "metadata": {},
   "outputs": [],
   "source": [
    "df_phylum_Nspecies = pd.read_table(\"/Users/konnonaoki/Documents/backupped/Research/IwasakiLab/Data/MetabolicNetworkEvolution/experiment/NK_M0150/list/phylum_Ntips.txt\", names = ['Phylum', 'Nspecies'])\n",
    "df_phylum_Nspecies = df_phylum_Nspecies.sort_values('Nspecies', ascending=False, kind = 'mergesort')\n",
    "df_phylum_Nspecies['color'] = color_list\n",
    "df_phylum_Nspecies['phylum_name'] = [phy.replace(\"p__\",\"\") for phy in df_phylum_Nspecies['Phylum']]\n",
    "df_phylum_Nspecies.to_csv(\"table/phylum_Nspecies_color_name.txt\", index = False)\n",
    "df_phylum_Nspecies"
   ]
  },
  {
   "cell_type": "code",
   "execution_count": null,
   "metadata": {},
   "outputs": [],
   "source": [
    "# Number of species analzed in this study by phylum\n",
    "fig = plt.figure(figsize=(9,2))\n",
    "ax = fig.add_axes([0.1,0.1,0.8,0.8])\n",
    "ax.bar(x = df_phylum_Nspecies['phylum_name'], height = df_phylum_Nspecies['Nspecies'],color = df_phylum_Nspecies['color'])\n",
    "ax.set_yscale(\"log\")\n",
    "ax.tick_params(axis='x', labelrotation= 90)\n",
    "ax.set_xlim(-1,50)\n",
    "ax.set_xlabel(\"Phylum\")\n",
    "ax.set_ylabel(\"#species\")\n",
    "plt.savefig(\"figures/NK_M0150_Nspecies_by_phlum.pdf\",bbox_inches='tight')\n",
    "plt.close()"
   ]
  },
  {
   "cell_type": "code",
   "execution_count": null,
   "metadata": {},
   "outputs": [],
   "source": [
    "df_taxonomy =  pd.read_table(\"/Users/konnonaoki/Documents/backupped/Research/IwasakiLab/Data/MetabolicNetworkEvolution/experiment/NK_M0150/list/gn_taxgtdb2.txt\", names = [\"ID\", \"Domain\", \"Phylum\", \"Class\", \"Order\", \"Family\", \"Genus\", \"Species\"])"
   ]
  },
  {
   "cell_type": "code",
   "execution_count": null,
   "metadata": {},
   "outputs": [],
   "source": [
    "df_ID_tax_merge = pd.merge(df_taxonomy,df_phylum_Nspecies, on = \"Phylum\")\n",
    "df_ID_tax_merge.to_csv(\"table/sp_taxonomy.txt\", sep=\"\\t\", index=False)\n",
    "df_ID_tax_merge"
   ]
  },
  {
   "cell_type": "code",
   "execution_count": null,
   "metadata": {},
   "outputs": [],
   "source": [
    "with open(\"itol/phylum_color.txt\", 'w') as handle:\n",
    "    handle.write(\n",
    "        \"DATASET_COLORSTRIP\\nSEPARATOR SPACE\\nDATASET_LABEL label1\\nCOLOR #ff0000\\nDATA\\n\"\n",
    "    )\n",
    "\n",
    "    for keggid, phylum, color in zip(list(df_ID_tax_merge[\"ID\"]), list(df_ID_tax_merge[\"Phylum\"]), list(df_ID_tax_merge[\"color\"])): \n",
    "        handle.write(\n",
    "            keggid + \" \" + color + \" \" + phylum + \"\\n\"\n",
    "        )"
   ]
  },
  {
   "cell_type": "code",
   "execution_count": null,
   "metadata": {},
   "outputs": [],
   "source": [
    "tree_ml = Phylo.read(\"/Users/konnonaoki/Documents/backupped/Research/IwasakiLab/Data/MetabolicNetworkEvolution/experiment/NK_M0150/tree/bac120_msa_r89.faa.mlgtdb.representative.renamed.rooted.nwk\", 'newick')\n",
    "tree_nj = Phylo.read(\"/Users/konnonaoki/Documents/backupped/Research/IwasakiLab/Data/MetabolicNetworkEvolution/experiment/NK_M0150/tree/bac120_msa_r89.faa.nj.representative.renamed.nwk\", 'newick')\n",
    "#tree_ml = Phylo.read(\"/Users/konnonaoki/Documents/backupped/Research/IwasakiLab/Data/MetabolicNetworkEvolution/experiment/NK_M0150/tree/bac120_msa_r89.faa.mlgtdb.nwk\", 'newick')\n",
    "#tree_nj = Phylo.read(\"/Users/konnonaoki/Documents/backupped/Research/IwasakiLab/Data/MetabolicNetworkEvolution/experiment/NK_M0150/tree/bac120_msa_r89.faa.nj.rename.nwk\", 'newick')"
   ]
  },
  {
   "cell_type": "code",
   "execution_count": null,
   "metadata": {},
   "outputs": [],
   "source": [
    "tip_set_ml0 = set([tip.name for tip in tree_ml.clade.clades[0].get_terminals()])\n",
    "tip_set_ml1 = set([tip.name for tip in tree_ml.clade.clades[1].get_terminals()])\n",
    "print(len(tip_set_ml0), len(tip_set_ml1))"
   ]
  },
  {
   "cell_type": "code",
   "execution_count": null,
   "metadata": {},
   "outputs": [],
   "source": [
    "clade_overlap = []\n",
    "for clade in tree_nj.get_nonterminals():\n",
    "    tip_set_nj = set([tip.name for tip in clade.get_terminals()])\n",
    "    transfer_distance = min(\n",
    "        len(tip_set_ml0) + len(tip_set_nj) - 2*len(tip_set_ml0 & tip_set_nj),\n",
    "        len(tip_set_ml1) + len(tip_set_nj) - 2*len(tip_set_ml1 & tip_set_nj),\n",
    "    )\n",
    "    clade_overlap.append([clade.name, transfer_distance])"
   ]
  },
  {
   "cell_type": "code",
   "execution_count": null,
   "metadata": {},
   "outputs": [],
   "source": [
    "df_clade_overlap = pd.DataFrame(clade_overlap, columns = [\"clade\", \"Transfer_distance\"])\n",
    "df_clade_overlap.sort_values(\"Transfer_distance\")"
   ]
  },
  {
   "cell_type": "code",
   "execution_count": null,
   "metadata": {},
   "outputs": [],
   "source": [
    "# Distribution of the ratio of nondetermined states for each KO\n",
    "\n",
    "tree_method = 'mlgtdb'\n",
    "acr  = 'MPPA'\n",
    "\n",
    "tree = Phylo.read('/Users/konnonaoki/Documents/backupped/Research/IwasakiLab/Data/MetabolicNetworkEvolution/experiment/NK_M0150/tree/bac120_msa_r89.faa.'+tree_method+'.representative.renamed.rooted.nwk','newick')\n",
    "list_extant_species = [clade.name for clade in tree.get_terminals()]\n",
    "set_extant_species = set(list_extant_species)\n",
    "\n",
    "df_KO_species_state = pd.read_table(\"/Users/konnonaoki/Documents/backupped/Research/IwasakiLab/Data/MetabolicNetworkEvolution/experiment/NK_M0150/result/ko_gn_weight.\"+tree_method+\"_\"+acr+\".txt\", names = ['KO', 'species', 'state'])\n",
    "df_KO_species_state['extant'] = [species in set_extant_species for species in list(df_KO_species_state['species'])]\n",
    "df_ko = pd.read_table(\"/Users/konnonaoki/Documents/backupped/Research/IwasakiLab/Data/MetabolicNetworkEvolution/experiment/NK_M0150/dataset/ko_ko.rn.Bacteria.txt\", names = ['KO','metabolicKO'])\n",
    "df_KO_species_state = pd.merge(df_ko, df_KO_species_state)\n",
    "df_KO_species_state"
   ]
  },
  {
   "cell_type": "code",
   "execution_count": null,
   "metadata": {},
   "outputs": [],
   "source": [
    "Ntips = 2894\n",
    "\n",
    "df_KO_species_state_anc = df_KO_species_state[~df_KO_species_state['extant']]\n",
    "list_undetermined_ratio = list(df_KO_species_state_anc[df_KO_species_state_anc['state']==0.5].value_counts('KO')/(Ntips - 1))\n",
    "print(len(list_undetermined_ratio))"
   ]
  },
  {
   "cell_type": "code",
   "execution_count": null,
   "metadata": {},
   "outputs": [],
   "source": [
    "list_undetermined_ratio_including_zero = list_undetermined_ratio + [0]*(len(set(df_KO_species_state.KO))-len(list_undetermined_ratio))\n",
    "\n",
    "print(\"#total KOs:\", len(list_undetermined_ratio_including_zero), \", Average undetermined ratio:\", sum(list_undetermined_ratio_including_zero) / len(list_undetermined_ratio_including_zero))"
   ]
  },
  {
   "cell_type": "code",
   "execution_count": null,
   "metadata": {},
   "outputs": [],
   "source": [
    "fig = plt.figure(figsize=(2,2))\n",
    "ax = fig.add_axes([0.1,0.1,0.8,0.8])\n",
    "ax.hist(list_undetermined_ratio + [0]*(len(set(df_KO_species_state.KO))-len(list_undetermined_ratio)), range = (0,1), bins = 200, color = '#0055FF')\n",
    "ax.set_xlim(-0.005,0.20)\n",
    "ax.set_xlabel(\"Ratio of undetermined states\")\n",
    "ax.set_ylabel(\"#OGs\")\n",
    "plt.savefig(\"figures/NK_M0150_undetermined_ratio.pdf\",bbox_inches = 'tight')\n",
    "plt.close()"
   ]
  },
  {
   "cell_type": "code",
   "execution_count": null,
   "metadata": {},
   "outputs": [],
   "source": [
    "list_parent_child = []\n",
    "for node in tree_ml.get_nonterminals():\n",
    "    for child in node.clades:\n",
    "        list_parent_child.append([node.name, child.name])\n",
    "df_parent_child = pd.DataFrame(list_parent_child, columns = ['clade', 'child'])"
   ]
  },
  {
   "cell_type": "code",
   "execution_count": null,
   "metadata": {},
   "outputs": [],
   "source": [
    "list_ko_Ngain_Nloss = []\n",
    "for i, ko in enumerate(list(set(df_ko.KO))):\n",
    "    if (i%100==0): print(i)\n",
    "    df_KO_species_state_ext = df_KO_species_state[df_KO_species_state['metabolicKO']==ko]\n",
    "    df_KO_species_state_ext_merged = pd.merge(df_KO_species_state_ext,df_parent_child, left_on = 'species', right_on = 'child', how = 'right').fillna(0).drop(columns = ['KO', 'metabolicKO', 'species', 'extant']).rename(columns  = {'state':'child_state'})\n",
    "    df_KO_species_state_ext_merged = pd.merge(df_KO_species_state_ext, df_KO_species_state_ext_merged, left_on = 'species', right_on = 'clade', how = 'right').fillna(0).drop(columns=['metabolicKO', 'extant', 'species'])\n",
    "    df_KO_species_state_ext_merged['KO'] = ko\n",
    "    gain_count = len(df_KO_species_state_ext_merged[(df_KO_species_state_ext_merged['state'] == 0) & (df_KO_species_state_ext_merged['child_state'] == 1)])\n",
    "    loss_count = len(df_KO_species_state_ext_merged[(df_KO_species_state_ext_merged['state'] == 1) & (df_KO_species_state_ext_merged['child_state'] == 0)])\n",
    "    list_ko_Ngain_Nloss.append([ko, gain_count, loss_count])\n",
    "\n",
    "df_ko_Ngain_Nloss = pd.DataFrame(list_ko_Ngain_Nloss, columns = ['KO','Ngain', 'Nloss'])\n",
    "df_ko_Ngain_Nloss.to_csv(\"table/ko_Ngain_Nloss.mlgtdb_MPPA.txt\", sep = '\\t', index= False)"
   ]
  },
  {
   "cell_type": "markdown",
   "metadata": {},
   "source": [
    "#### Count number of gains and losses"
   ]
  },
  {
   "cell_type": "code",
   "execution_count": null,
   "metadata": {},
   "outputs": [],
   "source": [
    "df_ko_Ngain_Nloss = pd.read_table(\"table/ko_Ngain_Nloss.mlgtdb_MPPA.txt\")\n",
    "\n",
    "df_ko_Ngain_Nloss = pd.merge(df_ko_Ngain_Nloss, df_uniquecategory_ko, on = \"KO\", how = \"left\")\n",
    "df_ko_Ngain_Nloss"
   ]
  },
  {
   "cell_type": "code",
   "execution_count": null,
   "metadata": {},
   "outputs": [],
   "source": [
    "df_ko_Ngain_Nloss[df_ko_Ngain_Nloss[\"Nloss\"] >= 5]"
   ]
  },
  {
   "cell_type": "code",
   "execution_count": null,
   "metadata": {},
   "outputs": [],
   "source": [
    "x = df_ko_Ngain_Nloss.Ngain\n",
    "y = df_ko_Ngain_Nloss.Nloss\n",
    "xy = np.vstack([x,y])\n",
    "z = gaussian_kde(xy)(xy)\n",
    "idx = z.argsort()\n",
    "x, y, z = x[idx], y[idx], z[idx]\n",
    "\n",
    "fig = plt.figure(figsize=(2,2))\n",
    "ax = fig.add_axes([0.1,0.1,0.8,0.8])\n",
    "ax.plot([-200, 500], [-200, 500], '-', lw=0.5, alpha = 0.5, color = '#555555')\n",
    "ax.scatter(x = x, y = y, c = z, s = 1,alpha = 0.5,cmap = 'jet')\n",
    "ax.set_xlim(-10,320)\n",
    "ax.set_ylim(-10,320)\n",
    "#ax.set_xscale(\"log\")\n",
    "#ax.set_yscale(\"log\")\n",
    "ax.set_xlabel(\"#gains\")\n",
    "ax.set_ylabel(\"#losses\")\n",
    "ax.set_xticks([0,100,200,300])\n",
    "plt.savefig(\"figures/NK_M0150_Ngain_Nloss.pdf\",bbox_inches = 'tight')\n",
    "#plt.close()\n",
    "\n",
    "ttest_rel(x, y)"
   ]
  },
  {
   "cell_type": "code",
   "execution_count": null,
   "metadata": {},
   "outputs": [],
   "source": [
    "# by functional category\n",
    "for category in set(df_uniquecategory_ko[\"category\"]):\n",
    "    df_ko_Ngain_Nloss_ext = df_ko_Ngain_Nloss[df_ko_Ngain_Nloss[\"category\"] == category].reset_index()\n",
    "    \n",
    "    print(len(df_ko_Ngain_Nloss_ext))\n",
    "\n",
    "    x = df_ko_Ngain_Nloss_ext.Ngain\n",
    "    y = df_ko_Ngain_Nloss_ext.Nloss\n",
    "    xy = np.vstack([x,y])\n",
    "    z = gaussian_kde(xy)(xy)\n",
    "    idx = z.argsort()\n",
    "    x, y, z = x[idx], y[idx], z[idx]\n",
    "\n",
    "    fig = plt.figure(figsize=(2,2))\n",
    "    ax = fig.add_axes([0.1,0.1,0.8,0.8])\n",
    "    ax.plot([-200, 500], [-200, 500], '-', lw=0.5, alpha = 0.5, color = '#555555')\n",
    "    ax.scatter(x = x, y = y, c = z, s = 1,alpha = 0.5,cmap = 'jet')\n",
    "    ax.set_xlim(-10,320)\n",
    "    ax.set_ylim(-10,320)\n",
    "    #ax.set_xscale(\"log\")\n",
    "    #ax.set_yscale(\"log\")\n",
    "    ax.set_title(category)\n",
    "    ax.set_xlabel(\"#gains\")\n",
    "    ax.set_ylabel(\"#losses\")\n",
    "    ax.set_xticks([0,100,200,300])\n",
    "    plt.savefig(\"figures/NK_M0150_Ngain_Nloss_\"+category+\".pdf\",bbox_inches = 'tight')\n",
    "    plt.close()"
   ]
  },
  {
   "cell_type": "code",
   "execution_count": null,
   "metadata": {},
   "outputs": [],
   "source": [
    "set(df_ko_Ngain_Nloss[\"category\"])"
   ]
  },
  {
   "cell_type": "code",
   "execution_count": null,
   "metadata": {},
   "outputs": [],
   "source": [
    "df_ko_Ngain_Nloss.sort_values('Ngain')"
   ]
  },
  {
   "cell_type": "code",
   "execution_count": null,
   "metadata": {},
   "outputs": [],
   "source": [
    "sp2phylum = {}\n",
    "for sp, phylum in zip(df_ID_tax_merge.ID, df_ID_tax_merge.Phylum):\n",
    "    sp2phylum[sp] = phylum"
   ]
  },
  {
   "cell_type": "code",
   "execution_count": null,
   "metadata": {},
   "outputs": [],
   "source": [
    "list_internal_node = tree_ml.get_nonterminals()\n",
    "\n",
    "for node in reversed(list_internal_node):\n",
    "    if sp2phylum[node.clades[0].name] == sp2phylum[node.clades[1].name]:\n",
    "        sp2phylum[node.name] = sp2phylum[node.clades[0].name]\n",
    "    else:\n",
    "        sp2phylum[node.name] = 'upstream'\n",
    "\n",
    "list_sp_phylum = []\n",
    "for sp in sp2phylum.keys():\n",
    "    list_sp_phylum.append([sp,sp2phylum[sp]])\n",
    "df_sp_phylum = pd.DataFrame(list_sp_phylum, columns = ['species', 'phylum'])"
   ]
  },
  {
   "cell_type": "code",
   "execution_count": null,
   "metadata": {},
   "outputs": [],
   "source": [
    "df_sp_phylum.to_csv(\"table/node_phylum.mlgtdb_MPPA.txt\", sep = '\\t', index= False, header = False)"
   ]
  },
  {
   "cell_type": "code",
   "execution_count": null,
   "metadata": {},
   "outputs": [],
   "source": [
    "df_KO_species_state_extant = df_KO_species_state[df_KO_species_state['extant']]\n",
    "df_KO_species_state_extant\n"
   ]
  },
  {
   "cell_type": "markdown",
   "metadata": {},
   "source": [
    "#### Presence/Absence iTOL label"
   ]
  },
  {
   "cell_type": "code",
   "execution_count": null,
   "metadata": {},
   "outputs": [],
   "source": [
    "for KO in list(set(df_KO_species_state_extant['KO'])):\n",
    "\n",
    "    df_KO_species_state_extant_ko = df_KO_species_state_extant[df_KO_species_state_extant['KO']==KO]\n",
    "    possessing_species_set = set(df_KO_species_state_extant_ko['species'])\n",
    "\n",
    "    color_absent = \"#FEF9B9\"\n",
    "    color_present = \"#4C4393\"\n",
    "\n",
    "    with open(\"itol/ko_ex/annotation.ex.\"+KO+\".txt\", 'w') as handle:\n",
    "        handle.write(\n",
    "            \"DATASET_COLORSTRIP\\nSEPARATOR SPACE\\nDATASET_LABEL \"+KO+\"\\nCOLOR #ff0000\\nDATA\\n\"\n",
    "        )\n",
    "\n",
    "        for species in list_extant_species:\n",
    "            if(species in possessing_species_set):\n",
    "                handle.write(\n",
    "                    species + \" \" + color_present + \" present\\n\"\n",
    "                )\n",
    "            else:\n",
    "                handle.write(\n",
    "                    species + \" \" + color_absent + \" absent\\n\"\n",
    "                )"
   ]
  }
 ],
 "metadata": {
  "interpreter": {
   "hash": "6e735269e152434eedfcfab596c1b5bd92dbf01a7c5f35c3224738c65ab1c2b6"
  },
  "kernelspec": {
   "display_name": "Python 3.9.5 64-bit ('metabo': conda)",
   "name": "python3"
  },
  "language_info": {
   "codemirror_mode": {
    "name": "ipython",
    "version": 3
   },
   "file_extension": ".py",
   "mimetype": "text/x-python",
   "name": "python",
   "nbconvert_exporter": "python",
   "pygments_lexer": "ipython3",
   "version": "3.9.5"
  },
  "toc": {
   "base_numbering": 1,
   "nav_menu": {},
   "number_sections": true,
   "sideBar": true,
   "skip_h1_title": false,
   "title_cell": "Table of Contents",
   "title_sidebar": "Contents",
   "toc_cell": false,
   "toc_position": {},
   "toc_section_display": true,
   "toc_window_display": false
  }
 },
 "nbformat": 4,
 "nbformat_minor": 2
}
