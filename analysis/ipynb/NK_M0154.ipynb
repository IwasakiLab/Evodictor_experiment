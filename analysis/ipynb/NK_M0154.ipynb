{
 "cells": [
  {
   "cell_type": "code",
   "execution_count": null,
   "metadata": {},
   "outputs": [],
   "source": [
    "import pandas as pd\n",
    "import numpy as np\n",
    "import matplotlib\n",
    "import matplotlib.pyplot as plt\n",
    "import matplotlib.colors as mcolor\n",
    "import os\n",
    "import gzip\n",
    "from scipy import stats\n",
    "from sklearn.metrics import roc_auc_score"
   ]
  },
  {
   "cell_type": "code",
   "execution_count": null,
   "metadata": {},
   "outputs": [],
   "source": [
    "matplotlib.rcParams['font.family']       = 'Arial'\n",
    "matplotlib.rcParams['font.sans-serif']   = [\"Arial\",\"DejaVu Sans\",\"Lucida Grande\",\"Verdana\"]\n",
    "matplotlib.rcParams['figure.figsize']    = [4,3]\n",
    "matplotlib.rcParams['font.size']         = 10\n",
    "matplotlib.rcParams[\"axes.labelcolor\"]   = \"#000000\"\n",
    "matplotlib.rcParams[\"axes.linewidth\"]    = 1.0 \n",
    "matplotlib.rcParams[\"xtick.major.width\"] = 1.0\n",
    "matplotlib.rcParams[\"ytick.major.width\"] = 1.0\n",
    "cmap1 = plt.cm.tab20\n",
    "cmap2 = plt.cm.Set3  \n",
    "#plt.style.use('default')"
   ]
  },
  {
   "cell_type": "code",
   "execution_count": null,
   "metadata": {},
   "outputs": [],
   "source": [
    "os.chdir(\"/Users/konnonaoki/Documents/backupped/Research/IwasakiLab/Data/MetabolicNetworkEvolution/experiment/NK_M0154\")\n",
    "\n",
    "for dir in [\"figures\", \"tables\", \"itol\"]:\n",
    "    try:\n",
    "        os.mkdir(dir)\n",
    "    except:\n",
    "        None"
   ]
  },
  {
   "cell_type": "markdown",
   "metadata": {},
   "source": [
    "#### Get correspondence table"
   ]
  },
  {
   "cell_type": "code",
   "execution_count": null,
   "metadata": {},
   "outputs": [],
   "source": [
    "df_sp_sptaxid = pd.read_table(\"/Users/konnonaoki/Documents/backupped/Research/IwasakiLab/Data/MetabolicNetworkEvolution/experiment/NK_M0154/list/gn_sptaxid.txt\", names=['species','sptaxid'])\n",
    "df_sp_sptaxid['species'] = [sp.split(\":\")[1] for sp in df_sp_sptaxid['species']]\n",
    "df_sp_sptaxid\n"
   ]
  },
  {
   "cell_type": "markdown",
   "metadata": {},
   "source": [
    "#### Essential gene profile"
   ]
  },
  {
   "cell_type": "code",
   "execution_count": null,
   "metadata": {},
   "outputs": [],
   "source": [
    "mtx_ePath = pd.read_table(\"/Users/konnonaoki/Documents/backupped/Research/IwasakiLab/Data/MetabolicNetworkEvolution/experiment/NK_M0154/ePath/Combined_KOExpEG.txt\", index_col=0)\n",
    "mtx_ePath\n"
   ]
  },
  {
   "cell_type": "code",
   "execution_count": null,
   "metadata": {},
   "outputs": [],
   "source": [
    "mtx_ePath_main = mtx_ePath.iloc[0:7150, 0:31]\n",
    "mtx_ePath_main\n"
   ]
  },
  {
   "cell_type": "code",
   "execution_count": null,
   "metadata": {},
   "outputs": [],
   "source": [
    "species_KO_essentiality_list = []\n",
    "\n",
    "for species in mtx_ePath_main.columns:\n",
    "    for KO in mtx_ePath_main.index:\n",
    "        species_KO_essentiality_list.append([species, KO, mtx_ePath_main.loc[KO, species]])\n",
    "\n",
    "df_ePath = pd.DataFrame(species_KO_essentiality_list, columns = ['species', 'KO', 'property'])\n",
    "\n",
    "df_ePath_sptaxid = pd.merge(df_ePath, df_sp_sptaxid, on = 'species')\n",
    "\n",
    "# Property: Experimental EG(*),\tMissing EG(o),\tExperimental Not EG(x), or\tNot Present(-)\n",
    "df_ePath_sptaxid"
   ]
  },
  {
   "cell_type": "code",
   "execution_count": null,
   "metadata": {},
   "outputs": [],
   "source": [
    "len(set(df_ePath_sptaxid[\"sptaxid\"]))"
   ]
  },
  {
   "cell_type": "markdown",
   "metadata": {},
   "source": [
    "#### Open prediction results"
   ]
  },
  {
   "cell_type": "code",
   "execution_count": null,
   "metadata": {},
   "outputs": [],
   "source": [
    "df_future = pd.read_table(gzip.open(\"/Users/konnonaoki/Documents/backupped/Research/IwasakiLab/Data/MetabolicNetworkEvolution/experiment/NK_M0153/result/sp_prob.test.txt.gz\"), names = ['KO', 'target', 'pred_method', 'selec_method', 'opt_mode', 'Nfeatures', 'species', 'prob'])\n",
    "df_future "
   ]
  },
  {
   "cell_type": "code",
   "execution_count": null,
   "metadata": {},
   "outputs": [],
   "source": [
    "df_future_sptaxid = pd.merge(df_future, df_sp_sptaxid, on = 'species')\n",
    "df_future_sptaxid\n"
   ]
  },
  {
   "cell_type": "markdown",
   "metadata": {},
   "source": [
    "#### Comparison"
   ]
  },
  {
   "cell_type": "code",
   "execution_count": null,
   "metadata": {},
   "outputs": [],
   "source": [
    "df_future_ePath = pd.merge(df_future_sptaxid, df_ePath_sptaxid.loc[:, ['KO', 'property', 'sptaxid']], on = ['sptaxid', 'KO'])\n",
    "df_future_ePath_ext = df_future_ePath[\n",
    "    (df_future_ePath['target']=='loss') &\n",
    "    (df_future_ePath['pred_method']=='RF') &\n",
    "    (df_future_ePath['selec_method']=='ANOVA') &\n",
    "    (df_future_ePath['opt_mode']=='N_opt_for_AUC_of_the_OG') &\n",
    "    (df_future_ePath['property']!='-')\n",
    "]\n",
    "\n",
    "df_future_ePath_ext = df_future_ePath_ext.reset_index()\n"
   ]
  },
  {
   "cell_type": "code",
   "execution_count": null,
   "metadata": {},
   "outputs": [],
   "source": [
    "df_future_ePath_ext['essentiality'] = (df_future_ePath_ext['property'] == '*')\n",
    "df_future_ePath_ext"
   ]
  },
  {
   "cell_type": "code",
   "execution_count": null,
   "metadata": {},
   "outputs": [],
   "source": [
    "threshold = 2\n",
    "\n",
    "ko_ess_iness_auc_list = []\n",
    "\n",
    "for KO in list(set(df_future_ePath_ext['KO'])):\n",
    "    df_future_ePath_ext_ko = df_future_ePath_ext[df_future_ePath_ext['KO']==KO]\n",
    "    df_future_ePath_ext_ko = df_future_ePath_ext_ko.reset_index()\n",
    "    df_future_ePath_ext_essential = df_future_ePath_ext_ko[df_future_ePath_ext_ko['essentiality']]\n",
    "    df_future_ePath_ext_inessential = df_future_ePath_ext_ko[~df_future_ePath_ext_ko['essentiality']]\n",
    "\n",
    "    if len(df_future_ePath_ext_essential) >= threshold and len(df_future_ePath_ext_inessential) >= threshold:\n",
    "        ko_ess_iness_auc_list.append([\n",
    "            KO, \n",
    "            df_future_ePath_ext_essential.median()['prob'], \n",
    "            df_future_ePath_ext_inessential.median()['prob'],\n",
    "            roc_auc_score(df_future_ePath_ext_ko[\"essentiality\"], -df_future_ePath_ext_ko[\"prob\"])\n",
    "        ]\n",
    "        )\n",
    "\n",
    "df_ko_ess_iness_auc = pd.DataFrame(ko_ess_iness_auc_list, columns = ['KO', 'prob_ess', 'prob_iness', 'AUC'])\n",
    "df_ko_ess_iness_auc\n"
   ]
  },
  {
   "cell_type": "code",
   "execution_count": null,
   "metadata": {},
   "outputs": [],
   "source": [
    "fig = plt.figure(figsize=(2,2))\n",
    "ax = fig.add_axes([0.1,0.1,0.8,0.8])\n",
    "\n",
    "ax.scatter(df_ko_ess_iness_auc [\"prob_ess\"], df_ko_ess_iness_auc [\"prob_iness\"], alpha=0.5, s = 2, color ='#E1BB63')#color=df_testresult['color_0to50vs50to100'])\n",
    "\n",
    "ax.set_xlim(0.0005,0.5)\n",
    "ax.set_ylim(0.0005,0.5)\n",
    "ax.set_xlabel(\"Loss prob. - Essential\")\n",
    "ax.set_ylabel(\"Loss prob. - Inessential\")\n",
    "ax.set_xscale('log')\n",
    "ax.set_yscale('log')\n",
    "plt.gca().spines['right'].set_visible(False)\n",
    "plt.gca().spines['top'].set_visible(False)\n",
    "x = np.arange(0, 2)\n",
    "\n",
    "y = x \n",
    "\n",
    "ax.plot(x, y, color = \"blue\", alpha = 0.5, lw = 1)\n",
    "\n",
    "plt.savefig(\"figures/prob_ess_iness.pdf\",bbox_inches='tight')\n",
    "\n",
    "stats.wilcoxon(df_ko_ess_iness_auc [\"prob_ess\"], df_ko_ess_iness_auc [\"prob_iness\"])"
   ]
  },
  {
   "cell_type": "code",
   "execution_count": null,
   "metadata": {},
   "outputs": [],
   "source": [
    "fig = plt.figure(figsize=(1.32,1.32))\n",
    "ax = fig.add_axes([0.1,0.1,0.8,0.8])\n",
    "\n",
    "ax.hist(np.log2(df_ko_ess_iness_auc['prob_iness'] / df_ko_ess_iness_auc['prob_ess']), color ='#E1BB63', bins = 100, range = (-3,3))\n",
    "\n",
    "ax.set_xlabel(\"Probability ratio\\n$log_2(inessential/essential)$\")\n",
    "ax.set_ylabel(\"#OGs\")\n",
    "ax.axvline(0, color = \"blue\", alpha = 0.1, lw = 0.5)\n",
    "plt.savefig(\"figures/logratio_histogram.pdf\",bbox_inches='tight')\n",
    "plt.close()\n",
    "\n",
    "stats.ttest_1samp(np.log2(df_ko_ess_iness_auc['prob_iness'] / df_ko_ess_iness_auc['prob_ess']), 0)"
   ]
  },
  {
   "cell_type": "code",
   "execution_count": null,
   "metadata": {},
   "outputs": [],
   "source": [
    "fig = plt.figure(figsize=(2,2))\n",
    "ax = fig.add_axes([0.1,0.1,0.8,0.8])\n",
    "\n",
    "ax.hist(df_ko_ess_iness_auc['AUC'], color ='#E1BB63', bins = 20, range = (0,1))\n",
    "\n",
    "ax.set_xlabel(\"AUC\")\n",
    "ax.set_ylabel(\"#OGs\")\n",
    "ax.axvline(0.5, color = \"blue\", alpha = 0.5, lw = 1)\n",
    "\n",
    "plt.savefig(\"figures/AUC_histogram.pdf\",bbox_inches='tight')\n",
    "#plt.close()\n",
    "\n",
    "stats.ttest_1samp(df_ko_ess_iness_auc['AUC'], 0.5)"
   ]
  },
  {
   "cell_type": "code",
   "execution_count": null,
   "metadata": {},
   "outputs": [],
   "source": [
    "fig = plt.figure(figsize=(1.5,1.5))\n",
    "ax = fig.add_axes([0.1,0.1,0.8,0.8])\n",
    "\n",
    "ax.hist(df_ko_ess_iness_auc['AUC'], color ='#F6EEDB', bins = 20, range = (0,1), )\n",
    "ax.hist(df_ko_ess_iness_auc['AUC'], color ='#E1BB63', bins = 20, range = (0,1), histtype = \"step\", lw = 1, )\n",
    "\n",
    "ax.set_xlabel(\"AUC of predicting\\ngene essentiality\")\n",
    "ax.set_ylabel(\"#OGs\")\n",
    "ax.set_xticks([0,0.5,1])\n",
    "ax.axvline(0.5, color = \"#000000\", alpha = 0.5, lw = 0.75)\n",
    "plt.gca().spines['right'].set_visible(False)\n",
    "plt.gca().spines['top'].set_visible(False)\n",
    "\n",
    "plt.savefig(\"figures/AUC_histogram.pdf\",bbox_inches='tight')\n",
    "#plt.close()\n",
    "\n",
    "stats.ttest_1samp(df_ko_ess_iness_auc['AUC'], 0.5)"
   ]
  },
  {
   "cell_type": "code",
   "execution_count": null,
   "metadata": {},
   "outputs": [],
   "source": [
    "df_ko_ess_iness_auc"
   ]
  },
  {
   "cell_type": "markdown",
   "metadata": {},
   "source": [
    "#### species included in ePath "
   ]
  },
  {
   "cell_type": "code",
   "execution_count": null,
   "metadata": {},
   "outputs": [],
   "source": [
    "df_species = pd.read_table(\"/Users/konnonaoki/Documents/backupped/Research/IwasakiLab/Data/MetabolicNetworkEvolution/experiment/NK_M0154/list/organism.txt\", index_col=1, names = ['T', 'species', 'name', 'taxonomy'])\n",
    "df_species.loc[list(set(df_future_ePath['species'])), :].sort_values('taxonomy')\n"
   ]
  }
 ],
 "metadata": {
  "interpreter": {
   "hash": "6e735269e152434eedfcfab596c1b5bd92dbf01a7c5f35c3224738c65ab1c2b6"
  },
  "kernelspec": {
   "display_name": "Python 3.9.5 64-bit ('metabo': conda)",
   "name": "python3"
  },
  "language_info": {
   "codemirror_mode": {
    "name": "ipython",
    "version": 3
   },
   "file_extension": ".py",
   "mimetype": "text/x-python",
   "name": "python",
   "nbconvert_exporter": "python",
   "pygments_lexer": "ipython3",
   "version": "3.9.5"
  },
  "toc": {
   "base_numbering": 1,
   "nav_menu": {},
   "number_sections": true,
   "sideBar": true,
   "skip_h1_title": false,
   "title_cell": "Table of Contents",
   "title_sidebar": "Contents",
   "toc_cell": false,
   "toc_position": {},
   "toc_section_display": true,
   "toc_window_display": false
  }
 },
 "nbformat": 4,
 "nbformat_minor": 2
}
