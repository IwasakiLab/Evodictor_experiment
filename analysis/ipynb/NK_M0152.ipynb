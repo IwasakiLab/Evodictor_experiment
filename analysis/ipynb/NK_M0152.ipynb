{
 "cells": [
  {
   "cell_type": "code",
   "execution_count": null,
   "metadata": {},
   "outputs": [],
   "source": [
    "import networkx as nx\n",
    "import pandas as pd\n",
    "import matplotlib\n",
    "import matplotlib.pyplot as plt\n",
    "import matplotlib.colors as mcolor\n",
    "import os\n",
    "import json\n",
    "from Bio import Phylo"
   ]
  },
  {
   "cell_type": "code",
   "execution_count": null,
   "metadata": {},
   "outputs": [],
   "source": [
    "matplotlib.rcParams['font.family']       = 'Arial'\n",
    "matplotlib.rcParams['font.sans-serif']   = [\"Arial\",\"DejaVu Sans\",\"Lucida Grande\",\"Verdana\"]\n",
    "matplotlib.rcParams['figure.figsize']    = [4,3]\n",
    "matplotlib.rcParams['font.size']         = 10\n",
    "matplotlib.rcParams[\"axes.labelcolor\"]   = \"#000000\"\n",
    "matplotlib.rcParams[\"axes.linewidth\"]    = 1.0 \n",
    "matplotlib.rcParams[\"xtick.major.width\"] = 1.0\n",
    "matplotlib.rcParams[\"ytick.major.width\"] = 1.0\n",
    "cmap1 = plt.cm.tab20\n",
    "cmap2 = plt.cm.Set3  \n",
    "#plt.style.use('default')"
   ]
  },
  {
   "cell_type": "code",
   "execution_count": null,
   "metadata": {},
   "outputs": [],
   "source": [
    "os.chdir(\"/Users/konnonaoki/Documents/backupped/Research/IwasakiLab/Data/MetabolicNetworkEvolution/experiment/NK_M0152\")\n",
    "\n",
    "for dir in [\"figures\", \"tables\", \"networks\"]:\n",
    "    try:\n",
    "        os.mkdir(dir)\n",
    "    except:\n",
    "        None"
   ]
  },
  {
   "cell_type": "code",
   "execution_count": null,
   "metadata": {},
   "outputs": [],
   "source": [
    "# Classess of KOs\n",
    "\n",
    "table_dir = \"/Users/konnonaoki/Documents/backupped/Research/IwasakiLab/Data/MetabolicNetworkEvolution/experiment/NK_M0151\"\n",
    "\n",
    "df_path_ko = pd.read_table(table_dir + \"/tables/path_ko.txt\", names = ['Pathway', 'KO'])\n",
    "df_rn_ko = pd.read_table(table_dir + \"/tables/rn_ko.txt\", names = ['Reaction','KO'])\n",
    "df_md_ko = pd.read_table(table_dir + \"/tables/md_ko.txt\", names = ['Module','KO'])\n",
    "df_path_md = pd.read_table(table_dir + \"/tables/path_md.txt\", names = ['Pathway','Module'])\n",
    "ontology = json.load(open(\"/Users/konnonaoki/Documents/backupped/Research/IwasakiLab/Data/MetabolicNetworkEvolution/experiment/NK_M0151/json/ko00001.json\"))\n",
    "\n",
    "ontology_tree = Phylo.BaseTree.Tree(Phylo.BaseTree.Clade(name=ontology['name']))\n",
    "root_clade    = Phylo.BaseTree.Clade(name=ontology['name'])\n",
    "stack = [(ontology, root_clade)]\n",
    "\n",
    "while len(stack) > 0:\n",
    "    term, clade = stack.pop()\n",
    "    if ('children' in term.keys()):\n",
    "        for child in term['children']:\n",
    "            child_clade = Phylo.BaseTree.Clade(name = child['name'])\n",
    "            clade.clades.append(child_clade)\n",
    "            stack.append((child, child_clade))\n",
    "\n",
    "ontology_tree = Phylo.BaseTree.Tree(root_clade)\n",
    "\n",
    "list_category_ko = []\n",
    "for clade in ontology_tree.clade.clades[0].clades:\n",
    "    for tip in clade.get_terminals():\n",
    "        KO = tip.name.split()[0]\n",
    "        if (KO[0] == 'K'):\n",
    "            list_category_ko.append([clade.name, KO])\n",
    "df_category_ko = pd.DataFrame(list_category_ko, columns = ['category', 'KO'])\n",
    "st_category_ko = []\n",
    "for clade in ontology_tree.clade.clades[0].clades:\n",
    "    for tip in clade.get_terminals():\n",
    "        KO = tip.name.split()[0]\n",
    "        if (KO[0] == 'K'):\n",
    "            list_category_ko.append([clade.name, KO])\n",
    "df_category_ko = pd.DataFrame(list_category_ko, columns = ['category', 'KO'])\n",
    "df_category_ko = df_category_ko[~df_category_ko.duplicated()]\n",
    "\n",
    "df_ko_count = pd.DataFrame(df_category_ko.KO.value_counts())\n",
    "set_ko_with_unique_category = set(df_ko_count[df_ko_count['KO']==1].index)\n",
    "df_category_ko['unique'] = [(ko in set_ko_with_unique_category) for ko in df_category_ko.KO]\n",
    "df_uniquecategory_ko = df_category_ko[df_category_ko['unique']]\n",
    "\n",
    "# color of function categories\n",
    "\n",
    "colors = ['#66C2A5', '#FC8D62', '#8DA0CB', '#E78AC3', '#555555', '#FC8D62', '#8DA0CB', '#E78AC3', '#66C2A5', '#FC8D62', '#000000']\n",
    "\n",
    "cm_name = 'Set3' # B->G->R\n",
    "cm = plt.get_cmap(cm_name)\n",
    "\n",
    "df_category_ko_module = pd.merge(df_category_ko, df_md_ko, on = 'KO')\n",
    "df_category_ko_module['Nko'] = 1\n",
    "df_category_module_count = df_category_ko_module.groupby(['category', 'Module'], as_index = False).sum()\n",
    "df_maxcategory_module = df_category_module_count.loc[df_category_module_count.groupby('Module')['Nko'].idxmax(),:].sort_values('category')\n",
    "df_maxcategory_module = df_maxcategory_module.reset_index().loc[:, ['category', 'Module']]\n",
    "df_category_color = pd.DataFrame([[category, i] for i, category in enumerate(df_maxcategory_module.category.unique())], columns = [\"category\", 'category_id'])\n",
    "df_category_color['color'] = [mcolor.rgb2hex(cm(i)) for i in df_category_color['category_id']]\n",
    "#df_category_color\n",
    "\n",
    "df_category_ko_pathway = pd.merge(df_category_ko, df_path_ko, on = 'KO')\n",
    "df_category_ko_pathway['Nko'] = 1\n",
    "df_category_pathway_count = df_category_ko_pathway.groupby(['category', 'Pathway'], as_index = False).sum()\n",
    "df_maxcategory_pathway = df_category_pathway_count.loc[df_category_pathway_count.groupby('Pathway')['Nko'].idxmax(),:].sort_values('category')\n",
    "df_maxcategory_pathway = df_maxcategory_pathway.reset_index().loc[:, ['category', 'Pathway']]\n",
    "df_maxcategory_pathway"
   ]
  },
  {
   "cell_type": "code",
   "execution_count": null,
   "metadata": {},
   "outputs": [],
   "source": [
    "# Enumerate pairs of KEGG Modules which share one or more reactions or contains adjacent reactions\n",
    "network_M = nx.read_gml(\"/Users/konnonaoki/Documents/backupped/Research/IwasakiLab/Data/SyntrophyExploration/NK_S0002/Single_Filter_N_CompressedNetwork.gml\")\n",
    "mapping = {module: module.split(\":\")[1] for module in network_M.nodes}\n",
    "network_M = nx.relabel_nodes(network_M, mapping)\n",
    "network_M_Xenobiotics = network_M.subgraph(df_maxcategory_module[df_maxcategory_module['category'] == '09111 Xenobiotics biodegradation and metabolism'].Module)\n",
    "nx.write_gml(network_M_Xenobiotics, \"networks/network_module.xenobiotics.gml\")"
   ]
  },
  {
   "cell_type": "code",
   "execution_count": null,
   "metadata": {},
   "outputs": [],
   "source": [
    "for edge in network_M_Xenobiotics.edges:\n",
    "    print(edge[0], edge[1])"
   ]
  },
  {
   "cell_type": "markdown",
   "metadata": {},
   "source": [
    "Adjacent module pairs are\n",
    "M00551 < M00543 \n",
    "M00551 < M00538\n",
    "M00551 < M00537\n",
    "M00534 > M00638\n",
    "M00568 < M00548\n",
    "M00568 < M00637\n",
    "M00539 < M00419\n",
    "M00418 > M00541\n",
    "M00547 > M00569\n",
    "M00548 > M00569\n",
    "M00637 > M00569"
   ]
  },
  {
   "cell_type": "code",
   "execution_count": null,
   "metadata": {},
   "outputs": [],
   "source": [
    "for category in set(df_maxcategory_pathway['category']):\n",
    "\n",
    "    # Enumerate pairs of KEGG Modules which share one or more reactions or contains adjacent reactions\n",
    "    network_M = nx.read_gml(\"/Users/konnonaoki/Documents/backupped/Research/IwasakiLab/Data/SyntrophyExploration/NK_S0002/Single_Filter_N_CompressedNetwork.gml\")\n",
    "    mapping = {module: module.split(\":\")[1] for module in network_M.nodes}\n",
    "    network_M = nx.relabel_nodes(network_M, mapping)\n",
    "    network_M_ext = network_M.subgraph(df_maxcategory_module[df_maxcategory_module['category'] == category].Module)\n",
    "    nx.write_gml(network_M_ext, \"networks/network_module.\"+category.split(\" \")[0]+\".gml\")"
   ]
  },
  {
   "cell_type": "code",
   "execution_count": null,
   "metadata": {},
   "outputs": [],
   "source": [
    "set(df_maxcategory_pathway['category'])"
   ]
  },
  {
   "cell_type": "markdown",
   "metadata": {},
   "source": [
    "#### Aminoacid synthesisの繋がったモジュールペアを列挙"
   ]
  },
  {
   "cell_type": "code",
   "execution_count": null,
   "metadata": {},
   "outputs": [],
   "source": [
    "list_modulepair = []\n",
    "network_M_ext = network_M.subgraph(df_maxcategory_module[df_maxcategory_module['category'] == '09105 Amino acid metabolism'].Module)\n",
    "for edge in network_M_ext.edges:\n",
    "    list_modulepair.append([edge[0], edge[1]])\n",
    "df_modulepair = pd.DataFrame(list_modulepair, columns = [\"md1\", \"md2\"])\n",
    "df_modulepair"
   ]
  },
  {
   "cell_type": "code",
   "execution_count": null,
   "metadata": {},
   "outputs": [],
   "source": [
    "df_md_desc = pd.read_table(\"/Users/konnonaoki/GoogleDrive/Research/KonnoNaoki/repositories/handyenrich/ref/class_description/module.kegg.txt\", names = [\"Module\", \"Description\"])\n",
    "df_md_desc[\"Module\"] = [md.split(\":\")[1] for md in df_md_desc[\"Module\"]]\n",
    "df_md_desc"
   ]
  },
  {
   "cell_type": "code",
   "execution_count": null,
   "metadata": {},
   "outputs": [],
   "source": [
    "df_modulepair = pd.merge(df_modulepair, df_md_desc, left_on = \"md1\", right_on = \"Module\").loc[:, [\"md1\", \"md2\", \"Description\"]].rename(columns = {\"Description\":\"desc1\"})\n",
    "df_modulepair = pd.merge(df_modulepair, df_md_desc, left_on = \"md2\", right_on = \"Module\").loc[:, [\"md1\", \"md2\", \"desc1\", \"Description\"]].rename(columns = {\"Description\":\"desc2\"})\n",
    "df_modulepair.to_csv(\"tables/aminoacid.csv\", index=False)"
   ]
  },
  {
   "cell_type": "code",
   "execution_count": null,
   "metadata": {},
   "outputs": [],
   "source": []
  },
  {
   "cell_type": "code",
   "execution_count": null,
   "metadata": {},
   "outputs": [],
   "source": []
  }
 ],
 "metadata": {
  "kernelspec": {
   "display_name": "Python 3",
   "language": "python",
   "name": "python3"
  },
  "language_info": {
   "codemirror_mode": {
    "name": "ipython",
    "version": 3
   },
   "file_extension": ".py",
   "mimetype": "text/x-python",
   "name": "python",
   "nbconvert_exporter": "python",
   "pygments_lexer": "ipython3",
   "version": "3.9.4"
  }
 },
 "nbformat": 4,
 "nbformat_minor": 2
}
